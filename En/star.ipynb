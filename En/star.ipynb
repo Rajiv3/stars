{
 "cells": [
  {
   "cell_type": "code",
   "execution_count": 30,
   "metadata": {},
   "outputs": [],
   "source": [
    "import scipy.constants as const\n",
    "\n",
    "# Pressure source - controls contributions to pressure\n",
    "# Options: 'all', 'no_degeneracy', 'no_ideal_gas', 'no_radiation'\n",
    "P_SOURCE = 'all'\n",
    "assert P_SOURCE in ('all', 'no_degeneracy', 'no_ideal_gas', 'no_radiation'), 'Invalid pressure source chosen.'\n",
    "\n",
    "# Parameter indices\n",
    "IDX_DICT = {'rho': 0,'T': 1,'M': 2,'L': 3,'tau': 4}\n",
    "\n",
    "pi = const.pi\n",
    "G = const.G\n",
    "c = const.c\n",
    "k = const.k\n",
    "sigma = 5.670373e-8\n",
    "hbar = const.hbar\n",
    "m_p = const.m_p\n",
    "m_e = const.m_e\n",
    "a = 4.0*sigma/c\n",
    "\n",
    "M_sun = 1.98840987e+30\n",
    "R_sun = 6.957e8\n",
    "L_sun = 3.828e26\n",
    "\n",
    "X = 0.73\n",
    "Y = 0.25\n",
    "Z = 0.02 \n",
    "gamma = 5.0/3.0\n",
    "Lambda = 0.0 #!\n",
    "X_CNO = 0.03*X\n",
    "mu = (2.0*X + 0.75*Y + 0.5*Z)**(-1)\n",
    "kappa_es = 0.02*(1 + X)\n",
    "\n",
    "# Numerical integration constants\n",
    "H_MIN = 1e3\n",
    "H_MAX_CORE_LOW_M = 5e6\n",
    "H_MAX_CORE_HIGH_M = 5e5\n",
    "H_MAX_OUTER = 5e4\n",
    "H_MAX_SURF = 5e3\n",
    "TOL_CORE = 1e-3\n",
    "TOL_OUTER = 1e-5\n",
    "TOL_SURF = 1e-7\n",
    "\n",
    "# Solver bound constants\n",
    "R_0 = 1.0\n",
    "M_MAX = 1e3 * M_sun\n",
    "R_MAX = 1e10 \n",
    "DELTA_TAU_MIN = 1e-3\n",
    "\n",
    "# Bisection constants\n",
    "RHO_C_MIN = 2.5e2\n",
    "RHO_C_MAX = 5.5e5\n",
    "L_ERR_RANGE_MIN = 1e-3\n",
    "L_ERR_MID_MIN = 1e-2\n",
    "BISECTION_MAX = 50\n",
    "\n",
    "# Plotting constants\n",
    "DPI = 200"
   ]
  },
  {
   "cell_type": "markdown",
   "metadata": {},
   "source": [
    "star equations"
   ]
  },
  {
   "cell_type": "code",
   "execution_count": 31,
   "metadata": {},
   "outputs": [],
   "source": [
    "from numpy import zeros, log10\n",
    "\n",
    "# Degeneracy pressure\n",
    "def P_degen(rho):\n",
    "    if P_SOURCE == 'no_degeneracy':\n",
    "        return 0.0\n",
    "    return (((3.0*(pi**2.0))**(2.0/3.0))*(hbar**2.0)*(rho**(5.0/3.0)))/(5.0*m_e*(m_p**(5.0/3.0)))\n",
    "\n",
    "# Ideal gas pressure\n",
    "def P_ideal(rho, T):\n",
    "    if P_SOURCE == 'no_ideal_gas':\n",
    "        return 0.0\n",
    "    return (rho*k*T)/(mu*m_p)\n",
    "\n",
    "# Radiation pressure\n",
    "def P_rad(T):\n",
    "    if P_SOURCE == 'no_radiation':\n",
    "        return 0.0\n",
    "    return (a*(T**4.0))/3.0\n",
    "\n",
    "# Total pressure\n",
    "def P(rho, T):\n",
    "    return P_degen(rho) + P_ideal(rho, T) + P_rad(T)\n",
    "\n",
    "# Derivative of degeneracy pressure with respect to density\n",
    "def dPdrho_degen(rho):\n",
    "    if P_SOURCE == 'no_degeneracy':\n",
    "        return 0.0\n",
    "    return (((3.0*(pi**2.0))**(2.0/3.0))*(hbar**2.0)*(rho**(2.0/3.0)))/(3.0*m_e*(m_p**(5.0/3.0)))\n",
    "\n",
    "# Derivative of ideal gas pressure with respect to density\n",
    "def dPdrho_ideal(T):\n",
    "    if P_SOURCE == 'no_ideal_gas':\n",
    "        return 0.0\n",
    "    return (k*T)/(mu*m_p)\n",
    "\n",
    "# Derivative of total pressure with respect to density\n",
    "def dPdrho(rho, T):\n",
    "    return dPdrho_degen(rho) + dPdrho_ideal(T)\n",
    "\n",
    "# Derivative of ideal gas pressure with respect to temperature\n",
    "def dPdT_ideal(rho):\n",
    "    if P_SOURCE == 'no_ideal_gas':\n",
    "        return 0.0\n",
    "    return (rho*k)/(mu*m_p)\n",
    "\n",
    "# Derivative of radiation pressure with respect to temperature\n",
    "def dPdT_rad(T):\n",
    "    if P_SOURCE == 'no_radiation':\n",
    "        return 0.0\n",
    "    return (4.0*a*(T**3.0))/3.0\n",
    "\n",
    "# Derivative of total pressure with respect to temperature\n",
    "def dPdT(rho, T):\n",
    "    return dPdT_ideal(rho) + dPdT_rad(T)\n",
    "\n",
    "\n",
    "# ----------------------------------------------------------------------------------------------------------------------\n",
    "\n",
    "\n",
    "### OPACITY EQUATIONS ###\n",
    "# Free-free opacity\n",
    "def kappa_ff(rho, T):\n",
    "    return 1.0e24 * (1.0 + X) * (Z + 0.0001) * ((rho/1e3)**0.7) * (T**(-3.5))\n",
    "\n",
    "# H- opacity\n",
    "def kappa_H(rho, T):\n",
    "    return 2.5e-32 * (Z/0.02) * ((rho/1e3)**0.5) * (T**9.0)\n",
    "\n",
    "# Total opacity\n",
    "def kappa(rho, T):\n",
    "    return ((1.0/kappa_H(rho, T)) + (1.0/max(kappa_es, kappa_ff(rho, T))))**(-1.0)\n",
    "\n",
    "\n",
    "# ----------------------------------------------------------------------------------------------------------------------\n",
    "\n",
    "\n",
    "### ENERGY GENERATION EQUATIONS ###\n",
    "# PP-chain energy generation\n",
    "def epsilon_PP(rho, T):\n",
    "    return 1.07e-7 * (rho/1e5) * (X**2.0) * ((T/1e6)**4.0)\n",
    "\n",
    "# CNO-chain energy generation\n",
    "def epsilon_CNO(rho, T):\n",
    "    return 8.24e-26 * (rho/1e5) * X_CNO * X * ((T / (1e6))**19.9)\n",
    "\n",
    "# Total energy generation\n",
    "def epsilon(rho, T):\n",
    "    return epsilon_PP(rho, T) + epsilon_CNO(rho, T)\n",
    "\n",
    "\n",
    "# ----------------------------------------------------------------------------------------------------------------------\n",
    "\n",
    "\n",
    "### STELLAR STRUCTURE ODES ###\n",
    "# Derivative of optical depth with respect to radius \n",
    "def dtaudr(rho, T):\n",
    "    return kappa(rho, T) * rho\n",
    "\n",
    "# Derivative of PP-luminosity with respect to radius\n",
    "def dLdr_PP(r, rho, T):\n",
    "    return 4.0 * pi * (r**2.0) * rho * epsilon_PP(rho, T)\n",
    "\n",
    "# Derivative of CNO-luminosity with respect to radius\n",
    "def dLdr_CNO(r, rho, T):\n",
    "    return 4.0 * pi * (r**2.0) * rho * epsilon_CNO(rho, T)\n",
    "\n",
    "# Derivative of total luminosity with respect to radius\n",
    "def dLdr(r, rho, T):\n",
    "    return 4.0 * pi * (r**2.0) * rho * epsilon(rho, T)\n",
    "\n",
    "# Derivative of mass with respect to radius - dM/dr\n",
    "def dMdr(r, rho):\n",
    "    return 4.0 * pi * (r**2.0) * rho\n",
    "\n",
    "# Derivative of radiative temperature with respect to radius\n",
    "def dTdr_rad(r, rho, T, M, L):\n",
    "    return (3.0*kappa(rho, T)*rho*L)/(64.0*pi*sigma*(T**3.0)*(r**2.0))\n",
    "    \n",
    "# Derivative of convective temperature with respect to radius  \n",
    "def dTdr_conv(r, rho, T, M, L):\n",
    "    return (1.0 - (1.0/gamma))*(1.0 + Lambda/r) * ((T*G*M*rho)/(P(rho, T)*(r**2.0)))\n",
    "\n",
    "# Derivative of temperature with respect to radius\n",
    "def dTdr(r, rho, T, M, L):\n",
    "    return -min(abs(dTdr_rad(r, rho, T, M, L)), abs(dTdr_conv(r, rho, T, M, L)))\n",
    "\n",
    "# Derivative of density with respect to radius\n",
    "def drhodr(r, rho, T, M, L):\n",
    "    return -((G*M*rho)/(r**2.0)*(1.0 + Lambda/r) + dPdT(rho, T)*dTdr(r, rho, T, M, L))/dPdrho(rho, T)\n",
    "\n",
    "\n",
    "# ----------------------------------------------------------------------------------------------------------------------\n",
    "\n",
    "\n",
    "### SYSTEM OF STELLAR STRUCTURE EQUATIONS ###\n",
    "def stellar_structure_equations(r, u):\n",
    "    rho = u[IDX_DICT[\"rho\"]]\n",
    "    T = u[IDX_DICT[\"T\"]]\n",
    "    M = u[IDX_DICT[\"M\"]]\n",
    "    L = u[IDX_DICT[\"L\"]]\n",
    "\n",
    "    drho = drhodr(r, rho, T, M, L)\n",
    "    dT = dTdr(r, rho, T, M, L)\n",
    "    dM = dMdr(r, rho)\n",
    "    dL = dLdr(r, rho, T)\n",
    "    dtau = dtaudr(rho, T)\n",
    "\n",
    "    dudr = zeros(len(IDX_DICT))\n",
    "    dudr[IDX_DICT[\"rho\"]] = drho\n",
    "    dudr[IDX_DICT[\"T\"]] = dT\n",
    "    dudr[IDX_DICT[\"M\"]] = dM\n",
    "    dudr[IDX_DICT[\"L\"]] = dL\n",
    "    dudr[IDX_DICT[\"tau\"]] = dtau\n",
    "\n",
    "    return dudr\n",
    "\n",
    "\n",
    "# ----------------------------------------------------------------------------------------------------------------------\n",
    "\n",
    "### INITIAL CONDITIONS ###\n",
    "# Initial mass\n",
    "def M_initial(r0, rho_c):\n",
    "    return (4.0/3.0) * pi * (r0**3) * rho_c\n",
    "\n",
    "\n",
    "# Initial luminosity\n",
    "def L_initial(r0, rho_c, T_c):\n",
    "    return (4.0/3.0) * pi * (r0**3) * rho_c * epsilon(rho_c, T_c)\n",
    "\n",
    "\n",
    "# Initial optical depth\n",
    "def tau_initial(r0, rho_c, T_c):\n",
    "    return kappa(rho_c, T_c) * rho_c * r0\n",
    "\n",
    "\n",
    "# ----------------------------------------------------------------------------------------------------------------------\n",
    "\n",
    "\n",
    "# Derivative of logP with respect to logT - dlogP/dlogT\n",
    "def dlogPdlogT(P, T):\n",
    "    logP = log10(P)\n",
    "    logT = log10(T)\n",
    "    dlogP = [logP[i + 1] - logP[i] for i in range(len(P) - 1)]\n",
    "    dlogT = [logT[i + 1] - logT[i] for i in range(len(T) - 1)]\n",
    "    return [dlogP[i]/dlogT[i] for i in range(len(dlogP))]\n",
    "\n",
    "# Finding index at which convection takes over\n",
    "def get_conv_idx(dlogPdlogT_vals):\n",
    "    conv_start = 0\n",
    "    for idx in range(len(dlogPdlogT_vals)):\n",
    "        if abs(dlogPdlogT_vals[idx] - 2.5) < 0.1:\n",
    "            conv_start = idx\n",
    "            break\n",
    "\n",
    "    conv_end = 0\n",
    "    for idx in range(conv_start, len(dlogPdlogT_vals)):\n",
    "        if abs(dlogPdlogT_vals[idx] - 2.5) > 0.1:\n",
    "            conv_end = idx - 1\n",
    "            break\n",
    "        \n",
    "    if conv_end == 0:\n",
    "        conv_end = -1\n",
    "\n",
    "    return conv_start, conv_end\n",
    "\n",
    "\n",
    "# ----------------------------------------------------------------------------------------------------------------------"
   ]
  },
  {
   "cell_type": "markdown",
   "metadata": {},
   "source": [
    "adapted version of RK45"
   ]
  },
  {
   "cell_type": "code",
   "execution_count": 32,
   "metadata": {},
   "outputs": [],
   "source": [
    "import numpy as np\n",
    "\n",
    "def myRK4(system, r0, u0, h0, T_c):\n",
    "    # Calculating slope coefficients\n",
    "    k0 = h0 * system(r0, u0)\n",
    "    k1 = h0 * system(r0 + 1/5*h0, u0 + 1/5*k0)\n",
    "    k2 = h0 * system(r0 + 3/10*h0, u0 + 3/40*k0 + 9/40*k1)\n",
    "    k3 = h0 * system(r0 + 4/5*h0, u0 + 44/45*k0 - 56/15*k1 + 32/9*k2)\n",
    "    k4 = h0 * system(r0 + 8/9*h0, u0 + 19372/6561*k0 - 25360/2187*k1 + 64448/6561*k2 - 212/729*k3)\n",
    "    k5 = h0 * system(r0 + h0, u0 + 9017/3168*k0 - 355/33*k1 + 46732/5247*k2 + 49/176*k3 - 5103/18656*k4)\n",
    "    u_final = u0 + 35/384*k0 + 500/1113*k2 + 125/192*k3 - 2187/6784*k4 + 11/84*k5\n",
    "    k6 = h0 * system(r0 + h0, u_final)\n",
    "\n",
    "    # Determining fourth and fifth-order solutions\n",
    "    u1_4 = u0 + 5179/57600*k0 + 7571/16695*k2 + 393/640*k3 - 92097/339200*k4 + 187/2100*k5 + 1/40*k6\n",
    "    u1_5 = u_final\n",
    "\n",
    "    # Relative error on solutions\n",
    "    err = np.fabs(u1_5 - u1_4)\n",
    "\n",
    "    # Stepsize and tolerance control\n",
    "    h_min = H_MIN\n",
    "    tol = TOL_CORE\n",
    "\n",
    "    if T_c < 1.25e7:\n",
    "        h_max = H_MAX_CORE_LOW_M\n",
    "\n",
    "        if u1_5[IDX_DICT['T']]/T_c < 0.01:\n",
    "            h_max = H_MAX_SURF\n",
    "            tol = TOL_SURF\n",
    "\n",
    "        elif u1_5[IDX_DICT['T']]/T_c < 0.05:\n",
    "            h_max = H_MAX_OUTER\n",
    "            tol = TOL_OUTER\n",
    "\n",
    "    elif T_c >= 1.25e7:\n",
    "        h_max = H_MAX_CORE_HIGH_M\n",
    "\n",
    "        if u1_5[IDX_DICT['T']]/T_c < 0.005:\n",
    "            h_max = H_MAX_SURF\n",
    "            tol = TOL_SURF\n",
    "\n",
    "        elif u1_5[IDX_DICT['T']]/T_c < 0.025:\n",
    "            h_max = H_MAX_OUTER\n",
    "            tol = TOL_OUTER\n",
    "\n",
    "    # Stepsize update\n",
    "    no_zero_div = err==0\n",
    "    s = ((np.fabs(u1_5)*tol)/(2*(err + no_zero_div)))**(1/5)\n",
    "    h1 = h0 * np.min(s)\n",
    "    h1 = min(max(h1, h_min), h_max)\n",
    "\n",
    "    return h1, u1_5"
   ]
  },
  {
   "cell_type": "markdown",
   "metadata": {},
   "source": [
    "solving star equations"
   ]
  },
  {
   "cell_type": "code",
   "execution_count": 33,
   "metadata": {},
   "outputs": [],
   "source": [
    "import numpy as np\n",
    "\n",
    "# Gets solution values at a given solution iteration\n",
    "def get_u0(star_params, idx):\n",
    "    u0 = [0.0]*len(IDX_DICT)\n",
    "    for param in IDX_DICT:\n",
    "        u0[IDX_DICT[param]] = star_params[param][idx]\n",
    "    return np.array(u0, float)\n",
    "\n",
    "# Gets all stellar parameter values at a given solution iteration\n",
    "def get_step_params(star_params, idx):\n",
    "    return {param: star_params[param][idx] for param in star_params}\n",
    "\n",
    "# Updates the values of all stellar parameters\n",
    "def update_params(star_params, u1):\n",
    "    for param in IDX_DICT:\n",
    "            star_params[param].append(u1[IDX_DICT[param]])\n",
    "\n",
    "    r = star_params['r'][-1]\n",
    "    rho = u1[IDX_DICT['rho']]\n",
    "    T = u1[IDX_DICT['T']]\n",
    "    M = u1[IDX_DICT['M']]\n",
    "    L = u1[IDX_DICT['L']]\n",
    "\n",
    "    star_params['P_degen'].append(P_degen(rho))\n",
    "    star_params['P_ideal'].append(P_ideal(rho, T))\n",
    "    star_params['P_rad'].append(P_rad(T))\n",
    "    star_params['P'].append(P(rho, T))\n",
    "    star_params['epsilon_PP'].append(epsilon_PP(rho, T))\n",
    "    star_params['epsilon_CNO'].append(epsilon_CNO(rho, T))\n",
    "    star_params['epsilon'].append(epsilon(rho, T))\n",
    "    star_params['dL_PP/dr'].append(dLdr_PP(r, rho, T))\n",
    "    star_params['dL_CNO/dr'].append(dLdr_CNO(r, rho, T))\n",
    "    star_params['dL/dr'].append(dLdr(r, rho, T))\n",
    "    star_params['kappa_ff'].append(kappa_ff(rho, T))\n",
    "    star_params['kappa_H'].append(kappa_H(rho, T))\n",
    "    star_params['kappa'].append(kappa(rho, T))\n",
    "\n",
    "\n",
    "# ----------------------------------------------------------------------------------------------------------------------\n",
    "\n",
    "\n",
    "### FINDING STAR SURFACE ###\n",
    "# Determines if tau = tau(inf)\n",
    "def at_tau_inf(step_params):\n",
    "    r = step_params['r']\n",
    "    rho = step_params['rho']\n",
    "    T = step_params['T']\n",
    "    M = step_params['M']\n",
    "    L = step_params['L']\n",
    "\n",
    "    drho = drhodr(r, rho, T, M, L)\n",
    "    delta_tau = (kappa(rho, T)*rho**2)/np.fabs(drho)\n",
    "    if (np.isnan(drho)) or ((drho != 0) and (delta_tau < DELTA_TAU_MIN)):\n",
    "        return True\n",
    "    else:\n",
    "        return False\n",
    "\n",
    "# Gets index of star surface\n",
    "def get_surf_idx(tau_vals):\n",
    "    tau_inf_idx = len(tau_vals) - 1\n",
    "    if np.isnan(tau_vals[tau_inf_idx]):\n",
    "        tau_inf_idx = len(tau_vals) - 2\n",
    "    tau_inf = tau_vals[tau_inf_idx]\n",
    "\n",
    "    tau_boundary_cond = tau_inf - np.array(tau_vals[0:tau_inf_idx]) - (2.0/3.0)\n",
    "    surf_idx = np.argmin(np.abs(tau_boundary_cond))\n",
    "\n",
    "    if surf_idx == 0:\n",
    "        return tau_inf_idx\n",
    "    else:\n",
    "        return surf_idx\n",
    "\n",
    "# Gets parameters at star surface\n",
    "def get_surf_params(star_params):\n",
    "    surf_idx = get_surf_idx(star_params['tau'])\n",
    "    surf_params = get_step_params(star_params, surf_idx)\n",
    "    return surf_params, surf_idx\n",
    "\n",
    "\n",
    "# ----------------------------------------------------------------------------------------------------------------------\n",
    "\n",
    "\n",
    "### SOLVING STELLAR STRUCTURE EQUATIONS ###\n",
    "def solve_stellar_structure(rho_c, T_c):\n",
    "    star_params = {\n",
    "        'r': [R_0],\n",
    "        'rho': [rho_c],\n",
    "        'T': [T_c],\n",
    "        'M': [M_initial(R_0, rho_c)],\n",
    "        'L': [L_initial(R_0, rho_c, T_c)],\n",
    "        'tau': [tau_initial(R_0, rho_c, T_c)],\n",
    "        'P_degen': [P_degen(rho_c)],\n",
    "        'P_ideal': [P_ideal(rho_c, T_c)],\n",
    "        'P_rad': [P_rad(T_c)],\n",
    "        'P': [P(rho_c, T_c)],\n",
    "        'epsilon_PP': [epsilon_PP(rho_c, T_c)],\n",
    "        'epsilon_CNO': [epsilon_CNO(rho_c, T_c)],\n",
    "        'epsilon': [epsilon(rho_c, T_c)],\n",
    "        'dL_PP/dr': [dLdr_PP(R_0, rho_c, T_c)],\n",
    "        'dL_CNO/dr': [dLdr_CNO(R_0, rho_c, T_c)],\n",
    "        'dL/dr': [dLdr(R_0, rho_c, T_c)],\n",
    "        'kappa_ff': [kappa_ff(rho_c, T_c)],\n",
    "        'kappa_H': [kappa_H(rho_c, T_c)],\n",
    "        'kappa': [kappa(rho_c, T_c)]}\n",
    "\n",
    "    h = 1e4\n",
    "    step_count = 1 \n",
    "    step_params = get_step_params(star_params, step_count - 1)\n",
    "\n",
    "    while (step_params['r'] < R_MAX) and (step_params['M'] < M_MAX) and (not at_tau_inf(step_params)):\n",
    "        star_params['r'].append(step_params['r'] + h)\n",
    "        u0 = get_u0(star_params, step_count - 1)\n",
    "        h, u1 = myRK4(stellar_structure_equations, step_params['r'], u0, h, T_c)\n",
    "\n",
    "        update_params(star_params, u1)\n",
    "\n",
    "        step_count += 1\n",
    "        step_params = get_step_params(star_params, step_count - 1)\n",
    "\n",
    "    surf_params, surf_idx = get_surf_params(star_params)\n",
    "    for param in star_params:\n",
    "        star_params[param] = np.array(star_params[param][:surf_idx])\n",
    "\n",
    "    return star_params\n",
    "\n",
    "# ---------------------------------------------------------------------------------------------------------------------- "
   ]
  },
  {
   "cell_type": "markdown",
   "metadata": {},
   "source": [
    "Bisection method"
   ]
  },
  {
   "cell_type": "code",
   "execution_count": 34,
   "metadata": {},
   "outputs": [],
   "source": [
    "### BISECTION ###\n",
    "# Determining the error in luminosity\n",
    "def L_err(star_params):\n",
    "    surf_params, surf_idx = get_surf_params(star_params)\n",
    "    R_surf = surf_params['r']\n",
    "    T_surf = surf_params['T']\n",
    "    L_surf = surf_params['L']\n",
    "\n",
    "    L_obs = L_surf\n",
    "    L_exp = 4.0 * pi * sigma * (R_surf**2.0) * (T_surf**4.0)\n",
    "    return (L_obs - L_exp)/np.sqrt(L_obs * L_exp)\n",
    "\n",
    "# Implementing bisection\n",
    "def bisection(T_c):\n",
    "    min_params = solve_stellar_structure(RHO_C_MIN, T_c)\n",
    "    max_params = solve_stellar_structure(RHO_C_MAX, T_c)\n",
    "\n",
    "    rho_c_mid = (RHO_C_MIN + RHO_C_MAX)/2\n",
    "    mid_params = solve_stellar_structure(rho_c_mid, T_c)\n",
    "    \n",
    "    bisection_count = 0\n",
    "    range_err = min_params['rho'][0] - max_params['rho'][0]\n",
    "    mid_err = L_err(mid_params)\n",
    "\n",
    "    #print('-'*80)\n",
    "    #print(f'Determining stellar structure for T_c = {T_c} K...')\n",
    "    #print('-'*80)\n",
    "    while (abs(range_err) > L_ERR_RANGE_MIN) and (abs(mid_err) > L_ERR_MID_MIN) and (bisection_count < BISECTION_MAX):\n",
    "\n",
    "        extra_zeros = (len(str(BISECTION_MAX)) - len(str(bisection_count + 1)))*'0'\n",
    "        #print(f'[Bisection {extra_zeros + str(bisection_count + 1)} | T_c = {T_c} K]')\n",
    "        #print(f'- Luminosity error = {mid_err}')\n",
    "        #print(f'- rho_c = {mid_params[\"rho\"][0]} kg/m^3')\n",
    "\n",
    "        if np.isnan(mid_err) or mid_err > 0:\n",
    "            max_params = mid_params\n",
    "        elif mid_err < 0:\n",
    "            min_params = mid_params\n",
    "\n",
    "        rho_c_mid = (min_params['rho'][0] + max_params['rho'][0])/2\n",
    "        mid_params = solve_stellar_structure(rho_c_mid, T_c)\n",
    "\n",
    "        bisection_count += 1\n",
    "        range_err = min_params['rho'][0] - max_params['rho'][0]\n",
    "        mid_err = L_err(mid_params)\n",
    "\n",
    "    min_err = L_err(min_params)\n",
    "    max_err = L_err(max_params)\n",
    "\n",
    "    if (abs(mid_err) > L_ERR_MID_MIN) and (abs(max_err) < abs(mid_err)) and (abs(max_err) < abs(min_err)):\n",
    "        mid_params = max_params\n",
    "    elif (abs(mid_err) > L_ERR_MID_MIN) and (abs(min_err) < abs(mid_err)) and (abs(min_err) < abs(max_err)):\n",
    "        mid_params = min_params\n",
    "\n",
    "    final_err = L_err(mid_params)\n",
    "    rho_c = mid_params['rho'][0]\n",
    "    surf_params, surf_idx = get_surf_params(mid_params)\n",
    "\n",
    "    star_params = mid_params\n",
    "    for param in star_params:\n",
    "        star_params[param] = np.array(star_params[param][:surf_idx + 1])\n",
    "\n",
    "    r_surf = surf_params[\"r\"]\n",
    "    M_surf = surf_params[\"M\"]\n",
    "    L_surf = surf_params[\"L\"]\n",
    "    T_comp = surf_params[\"T\"]\n",
    "    T_corr = (L_surf/(4.0 * pi * (r_surf**2) * sigma))**(1.0/4.0)\n",
    "\n",
    "    #print('-'*80)\n",
    "    print(f'Bisection results for T_c = {T_c} K:')\n",
    "    print(f'- Steps taken: {bisection_count}')\n",
    "    print(f'- Final luminosity error: {final_err}')\n",
    "    print(f'- R = {r_surf/R_sun} R_sun ({r_surf} m)')\n",
    "    print(f'- M = {M_surf/M_sun} M_sun ({M_surf} kg)')\n",
    "    print(f'- L = {L_surf/L_sun} L_sun ({L_surf} W)')\n",
    "    print(f'- Computed T = {T_comp} K')\n",
    "    print(f'- Corrected T = {T_corr} K')\n",
    "    print(f'- rho_c = {rho_c} kg/m^3')\n",
    "    print('-'*80)\n",
    "    \n",
    "    return surf_params, star_params\n"
   ]
  },
  {
   "cell_type": "markdown",
   "metadata": {},
   "source": [
    "Ploting..."
   ]
  },
  {
   "cell_type": "code",
   "execution_count": 35,
   "metadata": {},
   "outputs": [],
   "source": [
    "import matplotlib.pyplot as plt"
   ]
  },
  {
   "cell_type": "code",
   "execution_count": 36,
   "metadata": {},
   "outputs": [],
   "source": [
    "def plot_main_structure(r_vals, rho_vals, T_vals, M_vals, L_vals, conv_idx, T_c, res_path):\n",
    "    ax = sns.lineplot(x=r_vals, y=rho_vals, label=r'$\\rho$')\n",
    "    ax = sns.lineplot(x=r_vals, y=T_vals, label=r'$T$')\n",
    "    ax = sns.lineplot(x=r_vals, y=M_vals, label=r'$M$')\n",
    "    ax = sns.lineplot(x=r_vals, y=L_vals, label=r'$L$')\n",
    "    plt.xlim([0,1])\n",
    "    ax.axvspan(r_vals[conv_idx[0]], r_vals[conv_idx[1]], alpha=0.5)\n",
    "    ax.set_xlabel(r'$r/R_{\\mathrm{star}}$')\n",
    "    ax.set_ylabel(r'$\\rho/\\rho_c, \\;\\; T/T_c, \\;\\; M/M_{\\mathrm{star}}, \\;\\; L/L_{\\mathrm{star}}$')\n",
    "    ax.legend(loc='best')\n",
    "    plt.savefig(res_path + '/structure.png', dpi=DPI)\n",
    "    plt.show()\n",
    "\n",
    "# Plotting optical depth\n",
    "def plot_tau(r_vals, tau_vals, conv_idx, T_c, res_path):\n",
    "    ax = sns.lineplot(x=r_vals, y=tau_vals)\n",
    "    ax.axvspan(r_vals[conv_idx[0]], r_vals[conv_idx[1]], alpha=0.5)\n",
    "    ax.set_xlabel(r'$r/R_{\\mathrm{star}}$')\n",
    "    ax.set_ylabel(r'$\\tau$')\n",
    "    plt.xlim([0,1])\n",
    "    plt.savefig(res_path + '/tau.png', dpi=DPI)\n",
    "    plt.show()\n",
    "\n",
    "# Plotting pressure\n",
    "def plot_P(r_vals, P_degen_vals, P_ideal_vals, P_rad_vals, P_vals, conv_idx, T_c, res_path):\n",
    "    ax = sns.lineplot(x=r_vals, y=P_vals, label=r'$P_{\\mathrm{total}}$')\n",
    "    ax = sns.lineplot(x=r_vals, y=P_degen_vals, ls='-.', label=r'$P_{\\mathrm{deg}}$')\n",
    "    ax = sns.lineplot(x=r_vals, y=P_ideal_vals, ls='--', label=r'$P_{\\mathrm{ideal}}$')\n",
    "    ax = sns.lineplot(x=r_vals, y=P_rad_vals, ls=':', label=r'$P_{\\mathrm{rad}}$')\n",
    "    ax.axvspan(r_vals[conv_idx[0]], r_vals[conv_idx[1]], alpha=0.5)\n",
    "    ax.set_xlabel(r'$r/R_{\\mathrm{star}}$')\n",
    "    ax.set_ylabel(r'$P/P_c$')\n",
    "    plt.xlim([0,1])\n",
    "    ax.legend(loc='best')\n",
    "    plt.savefig(res_path + '/pressure.png', dpi=DPI)\n",
    "    plt.show()\n",
    "\n",
    "# Plotting dlogP/dlogT\n",
    "def plot_dlogPdlogT(r_vals, dlogPdlogT_vals, conv_idx, T_c, res_path):\n",
    "    ax = sns.lineplot(x=r_vals[:-1], y=dlogPdlogT_vals,)\n",
    "    ax.axvspan(r_vals[conv_idx[0]], r_vals[conv_idx[1]], alpha=0.5)\n",
    "    ax.set_xlabel(r'$r/R_{\\mathrm{star}}$')\n",
    "    ax.set_ylabel(r'$\\mathrm{d}\\log{P}/\\mathrm{d}\\log{T}$')\n",
    "    plt.xlim([0,1])\n",
    "    plt.savefig(res_path + '/dlogPdlogT.png', dpi=DPI)\n",
    "    plt.show()\n",
    "\n",
    "# Plotting energy generation\n",
    "def plot_epsilon(r_vals, epsilon_PP_vals, epsilon_CNO_vals, epsilon_vals, conv_idx, T_c, res_path):\n",
    "    ax = sns.lineplot(x=r_vals, y=epsilon_vals, label=r'$\\epsilon$')\n",
    "    ax = sns.lineplot(x=r_vals, y=epsilon_PP_vals, ls='--', label=r'$\\epsilon_{\\mathrm{PP}}$')\n",
    "    ax = sns.lineplot(x=r_vals, y=epsilon_CNO_vals, ls='-.', label=r'$\\epsilon_{\\mathrm{CNO}}$')\n",
    "    ax.axvspan(r_vals[conv_idx[0]], r_vals[conv_idx[1]], alpha=0.5)\n",
    "    ax.set_xlabel(r'$r/R_{\\mathrm{star}}$')\n",
    "    ax.set_ylabel(r'$\\epsilon \\;\\; (\\mathrm{W/kg})$')\n",
    "    ax.legend(loc='best')\n",
    "    plt.xlim([0,1])\n",
    "    plt.savefig(res_path + '/epsilon.png', dpi=DPI)\n",
    "    plt.show()\n",
    "\n",
    "# Plotting change in luminosity with radius\n",
    "def plot_dLdr(r_vals, dLdr_PP_vals, dLdr_CNO_vals, dLdr_vals, conv_idx, T_c, res_path):\n",
    "    ax = sns.lineplot(x=r_vals, y=dLdr_vals, label=r'$\\mathrm{d}L/\\mathrm{d}r$')\n",
    "    ax = sns.lineplot(x=r_vals, y=dLdr_PP_vals, ls='--', label=r'$\\mathrm{d}L_{\\mathrm{PP}}/\\mathrm{d}r$')\n",
    "    ax = sns.lineplot(x=r_vals, y=dLdr_CNO_vals, ls='-.', label=r'$\\mathrm{d}L_{\\mathrm{CNO}}/\\mathrm{d}r$')\n",
    "    ax.axvspan(r_vals[conv_idx[0]], r_vals[conv_idx[1]], alpha=0.5)\n",
    "    ax.set_xlabel(r'$r/R_{\\mathrm{star}}$')\n",
    "    ax.set_ylabel(r'$\\mathrm{d}L/\\mathrm{d}r \\;\\; (\\mathrm{W/m})$')\n",
    "    ax.legend(loc='best')\n",
    "    plt.xlim([0,1])\n",
    "    plt.savefig(res_path + '/dLdr.png', dpi=DPI)\n",
    "    plt.show()\n",
    "\n",
    "# Plotting opacity\n",
    "def plot_kappa(r_vals, kappa_es_vals, kappa_ff_vals, kappa_H_vals, kappa_vals, conv_idx, T_c, res_path):\n",
    "    # Plotting only the total kappa value\n",
    "    ax1 = sns.lineplot(x=r_vals, y=kappa_vals,)\n",
    "    ax1.axvspan(r_vals[conv_idx[0]], r_vals[conv_idx[1]], alpha=0.5)\n",
    "    ax1.set_xlabel(r'$r/R_{\\mathrm{star}}$')\n",
    "    ax1.set_ylabel(r'$\\log_{10}(\\kappa) \\;\\; (\\mathrm{m}^2\\mathrm{/kg})$')\n",
    "    plt.xlim([0,1])\n",
    "    plt.savefig(res_path + '/kappa_main.png', dpi=DPI)\n",
    "    plt.show()\n",
    "\n",
    "    # Plotting all kappa values\n",
    "    ax2 = sns.lineplot(x=r_vals, y=kappa_vals, label=r'$\\kappa$')\n",
    "    ax2 = sns.lineplot(x=r_vals, y=kappa_es_vals, ls=':', label=r'$\\kappa_{\\mathrm{es}}$')\n",
    "    ax2 = sns.lineplot(x=r_vals, y=kappa_ff_vals, ls='--', label=r'$\\kappa_{\\mathrm{ff}}$')\n",
    "    ax2 = sns.lineplot(x=r_vals, y=kappa_H_vals, ls='-.', label=r'$\\kappa_{\\mathrm{H}^-}$')\n",
    "    ax2.axvspan(r_vals[conv_idx[0]], r_vals[conv_idx[1]], alpha=0.5)\n",
    "    ax2.set_xlabel(r'$r/R_{\\mathrm{star}}$')\n",
    "    ax2.set_ylabel(r'$\\log_{10}(\\kappa) \\;\\; (\\mathrm{m}^2\\mathrm{/kg})$')\n",
    "    ax2.legend(loc='best')\n",
    "    plt.xlim([0,1])\n",
    "    plt.savefig(res_path + '/kappa_all.png', dpi=DPI)\n",
    "    plt.show()\n",
    "\n",
    "\n",
    "# ----------------------------------------------------------------------------------------------------------------------\n",
    "\n",
    "\n",
    "### PLOTTING STAR PARAMETER VALUES ###\n",
    "def plot_star_params(T_c, res_path):\n",
    "    # Getting structure values\n",
    "    surf_params, star_params = bisection(T_c)\n",
    "    r_surf = surf_params['r']\n",
    "    rho_c = star_params['rho'][0]\n",
    "    T_surf = surf_params['T']\n",
    "    M_surf = surf_params['M']\n",
    "    L_surf = surf_params['L']\n",
    "    P_c = star_params['P'][0]\n",
    "\n",
    "    r_vals = star_params['r']\n",
    "    rho_vals = star_params['rho']\n",
    "    T_vals = star_params['T']\n",
    "    M_vals = star_params['M']\n",
    "    L_vals = star_params['L']\n",
    "    tau_vals = star_params['tau']\n",
    "    P_degen_vals = star_params['P_degen']\n",
    "    P_ideal_vals = star_params['P_ideal']\n",
    "    P_rad_vals = star_params['P_rad']\n",
    "    P_vals = star_params['P']\n",
    "    epsilon_PP_vals = star_params['epsilon_PP']\n",
    "    epsilon_CNO_vals = star_params['epsilon_CNO']\n",
    "    epsilon_vals = star_params['epsilon']\n",
    "    dLdr_PP_vals = star_params['dL_PP/dr']\n",
    "    dLdr_CNO_vals = star_params['dL_CNO/dr']\n",
    "    dLdr_vals = star_params['dL/dr']\n",
    "    kappa_ff_vals = star_params['kappa_ff']\n",
    "    kappa_H_vals = star_params['kappa_H']\n",
    "    kappa_vals = star_params['kappa']\n",
    "\n",
    "    dlogPdlogT_vals = np.array(dlogPdlogT(P_vals, T_vals))\n",
    "    conv_idx = get_conv_idx(dlogPdlogT_vals)\n",
    "\n",
    "    # Calculating plotting values\n",
    "    scaled_r = r_vals/r_surf\n",
    "    scaled_rho = rho_vals/rho_c\n",
    "    scaled_T = T_vals/T_c\n",
    "    scaled_M = M_vals/M_surf\n",
    "    scaled_L = L_vals/L_surf\n",
    "    scaled_P_degen = P_degen_vals/P_c\n",
    "    scaled_P_ideal = P_ideal_vals/P_c\n",
    "    scaled_P_rad = P_rad_vals/P_c\n",
    "    scaled_P = P_vals/P_c\n",
    "    log_kappa = np.log10(kappa_vals)\n",
    "    log_kappa_es = np.log10(kappa_es * np.ones_like(kappa_vals))\n",
    "    log_kappa_ff = np.log10(kappa_ff_vals)\n",
    "    log_kappa_H = np.log10(kappa_H_vals)\n",
    "\n",
    "    # Plotting results\n",
    "    print('Plotting stellar parameters...')\n",
    "    print('-'*80)\n",
    "    plot_main_structure(scaled_r, scaled_rho, scaled_T, scaled_M, scaled_L, conv_idx, T_c, res_path)\n",
    "    print('Plotted rho, T, M, L vs. r')\n",
    "    plot_tau(scaled_r, tau_vals, conv_idx, T_c, res_path)\n",
    "    print('Plotted tau vs. r')\n",
    "    plot_P(scaled_r, scaled_P_degen, scaled_P_ideal, scaled_P_rad, scaled_P, conv_idx, T_c, res_path)\n",
    "    print('Plotted P vs. r')\n",
    "    plot_dlogPdlogT(scaled_r, dlogPdlogT_vals, conv_idx, T_c, res_path)\n",
    "    print('Plotted dlogP/dlogT vs. r')\n",
    "    plot_epsilon(scaled_r, epsilon_PP_vals, epsilon_CNO_vals, epsilon_vals, conv_idx, T_c, res_path)\n",
    "    print('Plotted epsilon vs. r')\n",
    "    plot_dLdr(scaled_r, dLdr_PP_vals, dLdr_CNO_vals, dLdr_vals, conv_idx, T_c, res_path)\n",
    "    print('Plotted dL/dr vs. r')\n",
    "    plot_kappa(scaled_r, log_kappa_es, log_kappa_ff, log_kappa_H, log_kappa, conv_idx, T_c, res_path)\n",
    "    print('Plotted kappa vs. r')\n",
    "    print('-'*80)\n",
    "    print('Plotting complete.')\n",
    "\n",
    "    \"\"\"\n",
    "    # Saving star parameters\n",
    "    print('Saving results...')\n",
    "    with open(res_path + '/star_params.txt', 'w') as f:\n",
    "        f.write(f'T_c = {T_c} K\\n')\n",
    "        f.write(f'rho_c = {rho_c} kg/m^3\\n')\n",
    "        f.write(f'R = {r_surf/R_sun} R_sun\\n')\n",
    "        f.write(f'M = {M_surf/M_sun} M_sun\\n')\n",
    "        f.write(f'L = {L_surf/L_sun} L_sun\\n')\n",
    "        f.write(f'T_calc = {T_surf} K\\n')\n",
    "        f.write(f'T_corr = {(L_surf/(4.0 * pi * (r_surf**2) * sigma))**(1.0/4.0)} K')\n",
    "    f.close()\n",
    "    print('Results saved.')\n",
    "    print('-'*80)\n",
    "    \"\"\"\n",
    "    \n",
    "# ----------------------------------------------------------------------------------------------------------------------"
   ]
  },
  {
   "cell_type": "code",
   "execution_count": 37,
   "metadata": {},
   "outputs": [],
   "source": [
    "import seaborn as sns\n",
    "from joblib import Parallel, delayed\n",
    "import numpy as np\n"
   ]
  },
  {
   "cell_type": "code",
   "execution_count": 38,
   "metadata": {},
   "outputs": [],
   "source": [
    "# MAIN SEQUENCE PLOTS\n",
    "\n",
    "# Plotting luminosity vs. temperature\n",
    "def plot_L_vs_T(T_vals, L_vals, res_path, from_data):\n",
    "    plt.scatter(T_vals, L_vals, marker='o')\n",
    "    plt.xscale('log')\n",
    "    plt.yscale('log')\n",
    "    plt.xlabel(r'$T \\;\\; (\\mathrm{K})$')\n",
    "    plt.ylabel(r'$L/L_{\\odot}$')\n",
    "    plt.gca().invert_xaxis()\n",
    "    if from_data:\n",
    "        plt.savefig(res_path + '/HR_diagram_from_data.png', dpi=DPI)\n",
    "    else:\n",
    "        plt.savefig(res_path + '/HR_diagram.png', dpi=DPI)\n",
    "    plt.show()\n",
    "\n",
    "# Plotting luminosity vs. mass\n",
    "def plot_L_vs_M(M_vals, L_vals, res_path, from_data):\n",
    "    plt.scatter(M_vals, L_vals, marker='o')\n",
    "    plt.xscale('log')\n",
    "    plt.yscale('log')\n",
    "    plt.xlabel(r'$M/M_{\\odot}$')\n",
    "    plt.ylabel(r'$L/L_{\\odot}$')\n",
    "    if from_data:\n",
    "        plt.savefig(res_path + '/M_L_relation_from_data.png', dpi=DPI)\n",
    "    else:\n",
    "        plt.savefig(res_path + '/M_L_relation.png', dpi=DPI)\n",
    "    plt.show()\n",
    "\n",
    "\n",
    "# Plotting radius vs. mass\n",
    "def plot_R_vs_M(M_vals, R_vals, res_path, from_data):\n",
    "    plt.scatter(M_vals, R_vals, marker='o')\n",
    "    plt.xscale('log')\n",
    "    plt.yscale('log')\n",
    "    plt.xlabel(r'$M/M_{\\odot}$',)\n",
    "    plt.ylabel(r'$R/R_{\\odot}$')\n",
    "    if from_data:\n",
    "        plt.savefig(res_path + '/M_R_relation_from_data.png', dpi=DPI)\n",
    "    else:\n",
    "        plt.savefig(res_path + '/M_R_relation.png', dpi=DPI)\n",
    "    plt.show()\n",
    "\n",
    "\n",
    "# ----------------------------------------------------------------------------------------------------------------------\n",
    "### PLOTTING MAIN SEQUENCE ###\n",
    "# Plotting the main sequence using the stellar structure solver\n",
    "def main_sequence_vals(T_c):\n",
    "    surf_params, star_params = bisection(T_c)\n",
    "    rho_c = star_params['rho'][0]\n",
    "    R = surf_params['r']\n",
    "    M = surf_params['M']\n",
    "    L = surf_params['L']\n",
    "    T = (L/(4.0 * pi * (R**2) * sigma))**(1.0/4.0)\n",
    "    return rho_c, R, T, M, L\n",
    "\n",
    "def plot_main_sequence(T_c_min, T_c_max, N, res_path):\n",
    "    # Calculating main sequence values\n",
    "    T_c_vals = np.linspace(T_c_min, T_c_max, N)\n",
    "    main_sequence = np.array(Parallel(n_jobs=4)(delayed(main_sequence_vals)(T_c) for T_c in T_c_vals))\n",
    "    rho_c_vals = main_sequence[:,0]\n",
    "    R_vals = main_sequence[:,1]/R_sun\n",
    "    T_vals = main_sequence[:,2]\n",
    "    M_vals = main_sequence[:,3]/M_sun\n",
    "    L_vals = main_sequence[:,4]/L_sun\n",
    "\n",
    "    # Plotting results\n",
    "    print('Plotting main sequence...')\n",
    "    print('-'*80)\n",
    "    plot_L_vs_T(T_vals, L_vals, res_path, False)\n",
    "    print('Plotted Hertzsprung-Russell diagram')\n",
    "    plot_L_vs_M(M_vals, L_vals, res_path, False)\n",
    "    print('Plotted mass-luminosity relation')\n",
    "    plot_R_vs_M(M_vals, R_vals, res_path, False)\n",
    "    print('Plotted mass-radius relation')\n",
    "    print('-'*80)\n",
    "    print('Plotting complete.')\n",
    "\n",
    "    # Saving results\n",
    "    print('Saving results...')\n",
    "    with open(res_path + '/main_sequence_values.txt', 'w') as f:\n",
    "        f.write('T_c rho_c R T M L\\n')\n",
    "        for i in range(len(T_c_vals)):\n",
    "            f.write(f'{T_c_vals[i]} {rho_c_vals[i]} {R_vals[i]} {T_vals[i]} {M_vals[i]} {L_vals[i]}\\n')\n",
    "    f.close()\n",
    "    print('Results saved.')\n",
    "    print('-'*80)\n",
    "# ----------------------------------------------------------------------------------------------------------------------"
   ]
  },
  {
   "cell_type": "code",
   "execution_count": 39,
   "metadata": {},
   "outputs": [
    {
     "name": "stdout",
     "output_type": "stream",
     "text": [
      "Plotting main sequence...\n",
      "--------------------------------------------------------------------------------\n"
     ]
    },
    {
     "data": {
      "image/png": "[encoded data removed]",
      "text/plain": [
       "<Figure size 432x288 with 1 Axes>"
      ]
     },
     "metadata": {
      "needs_background": "light"
     },
     "output_type": "display_data"
    },
    {
     "name": "stdout",
     "output_type": "stream",
     "text": [
      "Plotted Hertzsprung-Russell diagram\n"
     ]
    },
    {
     "data": {
      "image/png": "[encoded data removed]",
      "text/plain": [
       "<Figure size 432x288 with 1 Axes>"
      ]
     },
     "metadata": {
      "needs_background": "light"
     },
     "output_type": "display_data"
    },
    {
     "name": "stdout",
     "output_type": "stream",
     "text": [
      "Plotted mass-luminosity relation\n"
     ]
    },
    {
     "data": {
      "image/png": "[encoded data removed]",
      "text/plain": [
       "<Figure size 432x288 with 1 Axes>"
      ]
     },
     "metadata": {
      "needs_background": "light"
     },
     "output_type": "display_data"
    },
    {
     "name": "stdout",
     "output_type": "stream",
     "text": [
      "Plotted mass-radius relation\n",
      "--------------------------------------------------------------------------------\n",
      "Plotting complete.\n",
      "Saving results...\n",
      "Results saved.\n",
      "--------------------------------------------------------------------------------\n"
     ]
    }
   ],
   "source": [
    "Lambda = 0\n",
    "plot_main_sequence(30000, 1e7, 30, 'MS')"
   ]
  },
  {
   "cell_type": "code",
   "execution_count": 41,
   "metadata": {},
   "outputs": [
    {
     "name": "stdout",
     "output_type": "stream",
     "text": [
      "Plotting main sequence...\n",
      "--------------------------------------------------------------------------------\n"
     ]
    },
    {
     "data": {
      "image/png": "[encoded data removed]",
      "text/plain": [
       "<Figure size 432x288 with 1 Axes>"
      ]
     },
     "metadata": {
      "needs_background": "light"
     },
     "output_type": "display_data"
    },
    {
     "name": "stdout",
     "output_type": "stream",
     "text": [
      "Plotted Hertzsprung-Russell diagram\n"
     ]
    },
    {
     "data": {
      "image/png": "[encoded data removed]",
      "text/plain": [
       "<Figure size 432x288 with 1 Axes>"
      ]
     },
     "metadata": {
      "needs_background": "light"
     },
     "output_type": "display_data"
    },
    {
     "name": "stdout",
     "output_type": "stream",
     "text": [
      "Plotted mass-luminosity relation\n"
     ]
    },
    {
     "data": {
      "image/png": "[encoded data removed]",
      "text/plain": [
       "<Figure size 432x288 with 1 Axes>"
      ]
     },
     "metadata": {
      "needs_background": "light"
     },
     "output_type": "display_data"
    },
    {
     "name": "stdout",
     "output_type": "stream",
     "text": [
      "Plotted mass-radius relation\n",
      "--------------------------------------------------------------------------------\n",
      "Plotting complete.\n",
      "Saving results...\n",
      "Results saved.\n",
      "--------------------------------------------------------------------------------\n"
     ]
    }
   ],
   "source": [
    "Lambda = 1e8\n",
    "plot_main_sequence(30000, 1e7, 30, 'MS_pos')"
   ]
  },
  {
   "cell_type": "code",
   "execution_count": 45,
   "metadata": {},
   "outputs": [
    {
     "name": "stdout",
     "output_type": "stream",
     "text": [
      "Plotting main sequence...\n",
      "--------------------------------------------------------------------------------\n"
     ]
    },
    {
     "data": {
      "image/png": "[encoded data removed]",
      "text/plain": [
       "<Figure size 432x288 with 1 Axes>"
      ]
     },
     "metadata": {
      "needs_background": "light"
     },
     "output_type": "display_data"
    },
    {
     "name": "stdout",
     "output_type": "stream",
     "text": [
      "Plotted Hertzsprung-Russell diagram\n"
     ]
    },
    {
     "data": {
      "image/png": "[encoded data removed]",
      "text/plain": [
       "<Figure size 432x288 with 1 Axes>"
      ]
     },
     "metadata": {
      "needs_background": "light"
     },
     "output_type": "display_data"
    },
    {
     "name": "stdout",
     "output_type": "stream",
     "text": [
      "Plotted mass-luminosity relation\n"
     ]
    },
    {
     "data": {
      "image/png": "[encoded data removed]",
      "text/plain": [
       "<Figure size 432x288 with 1 Axes>"
      ]
     },
     "metadata": {
      "needs_background": "light"
     },
     "output_type": "display_data"
    },
    {
     "name": "stdout",
     "output_type": "stream",
     "text": [
      "Plotted mass-radius relation\n",
      "--------------------------------------------------------------------------------\n",
      "Plotting complete.\n",
      "Saving results...\n",
      "Results saved.\n",
      "--------------------------------------------------------------------------------\n"
     ]
    }
   ],
   "source": [
    "Lambda = -1e4\n",
    "plot_main_sequence(30000, 1e7, 30, 'MS_neg_e4')"
   ]
  },
  {
   "cell_type": "code",
   "execution_count": 47,
   "metadata": {},
   "outputs": [
    {
     "name": "stdout",
     "output_type": "stream",
     "text": [
      "Plotting main sequence...\n",
      "--------------------------------------------------------------------------------\n"
     ]
    },
    {
     "data": {
      "image/png": "[encoded data removed]",
      "text/plain": [
       "<Figure size 432x288 with 1 Axes>"
      ]
     },
     "metadata": {
      "needs_background": "light"
     },
     "output_type": "display_data"
    },
    {
     "name": "stdout",
     "output_type": "stream",
     "text": [
      "Plotted Hertzsprung-Russell diagram\n"
     ]
    },
    {
     "data": {
      "image/png": "[encoded data removed]",
      "text/plain": [
       "<Figure size 432x288 with 1 Axes>"
      ]
     },
     "metadata": {
      "needs_background": "light"
     },
     "output_type": "display_data"
    },
    {
     "name": "stdout",
     "output_type": "stream",
     "text": [
      "Plotted mass-luminosity relation\n"
     ]
    },
    {
     "data": {
      "image/png": "[encoded data removed]",
      "text/plain": [
       "<Figure size 432x288 with 1 Axes>"
      ]
     },
     "metadata": {
      "needs_background": "light"
     },
     "output_type": "display_data"
    },
    {
     "name": "stdout",
     "output_type": "stream",
     "text": [
      "Plotted mass-radius relation\n",
      "--------------------------------------------------------------------------------\n",
      "Plotting complete.\n",
      "Saving results...\n",
      "Results saved.\n",
      "--------------------------------------------------------------------------------\n"
     ]
    }
   ],
   "source": [
    "Lambda = -1e5\n",
    "plot_main_sequence(30000, 1e7, 30, 'MS_neg_e5')"
   ]
  },
  {
   "cell_type": "code",
   "execution_count": 49,
   "metadata": {},
   "outputs": [
    {
     "name": "stdout",
     "output_type": "stream",
     "text": [
      "Plotting main sequence...\n",
      "--------------------------------------------------------------------------------\n"
     ]
    },
    {
     "data": {
      "image/png": "[encoded data removed]",
      "text/plain": [
       "<Figure size 432x288 with 1 Axes>"
      ]
     },
     "metadata": {
      "needs_background": "light"
     },
     "output_type": "display_data"
    },
    {
     "name": "stdout",
     "output_type": "stream",
     "text": [
      "Plotted Hertzsprung-Russell diagram\n"
     ]
    },
    {
     "data": {
      "image/png": "[encoded data removed]",
      "text/plain": [
       "<Figure size 432x288 with 1 Axes>"
      ]
     },
     "metadata": {
      "needs_background": "light"
     },
     "output_type": "display_data"
    },
    {
     "name": "stdout",
     "output_type": "stream",
     "text": [
      "Plotted mass-luminosity relation\n"
     ]
    },
    {
     "data": {
      "image/png": "[encoded data removed]",
      "text/plain": [
       "<Figure size 432x288 with 1 Axes>"
      ]
     },
     "metadata": {
      "needs_background": "light"
     },
     "output_type": "display_data"
    },
    {
     "name": "stdout",
     "output_type": "stream",
     "text": [
      "Plotted mass-radius relation\n",
      "--------------------------------------------------------------------------------\n",
      "Plotting complete.\n",
      "Saving results...\n",
      "Results saved.\n",
      "--------------------------------------------------------------------------------\n"
     ]
    }
   ],
   "source": [
    "Lambda = 1e7\n",
    "plot_main_sequence(30000, 1e7, 30, 'MS_pos_e7')"
   ]
  },
  {
   "cell_type": "code",
   "execution_count": 50,
   "metadata": {},
   "outputs": [
    {
     "name": "stdout",
     "output_type": "stream",
     "text": [
      "Plotting main sequence...\n",
      "--------------------------------------------------------------------------------\n"
     ]
    },
    {
     "data": {
      "image/png": "[encoded data removed]",
      "text/plain": [
       "<Figure size 432x288 with 1 Axes>"
      ]
     },
     "metadata": {
      "needs_background": "light"
     },
     "output_type": "display_data"
    },
    {
     "name": "stdout",
     "output_type": "stream",
     "text": [
      "Plotted Hertzsprung-Russell diagram\n"
     ]
    },
    {
     "data": {
      "image/png": "[encoded data removed]",
      "text/plain": [
       "<Figure size 432x288 with 1 Axes>"
      ]
     },
     "metadata": {
      "needs_background": "light"
     },
     "output_type": "display_data"
    },
    {
     "name": "stdout",
     "output_type": "stream",
     "text": [
      "Plotted mass-luminosity relation\n"
     ]
    },
    {
     "data": {
      "image/png": "[encoded data removed]",
      "text/plain": [
       "<Figure size 432x288 with 1 Axes>"
      ]
     },
     "metadata": {
      "needs_background": "light"
     },
     "output_type": "display_data"
    },
    {
     "name": "stdout",
     "output_type": "stream",
     "text": [
      "Plotted mass-radius relation\n",
      "--------------------------------------------------------------------------------\n",
      "Plotting complete.\n",
      "Saving results...\n",
      "Results saved.\n",
      "--------------------------------------------------------------------------------\n"
     ]
    }
   ],
   "source": [
    "Lambda = 5e8\n",
    "plot_main_sequence(30000, 1e7, 30, 'MS_pos_5e8')"
   ]
  },
  {
   "cell_type": "code",
   "execution_count": 51,
   "metadata": {},
   "outputs": [
    {
     "name": "stdout",
     "output_type": "stream",
     "text": [
      "Plotting main sequence...\n",
      "--------------------------------------------------------------------------------\n"
     ]
    },
    {
     "data": {
      "image/png": "[encoded data removed]",
      "text/plain": [
       "<Figure size 432x288 with 1 Axes>"
      ]
     },
     "metadata": {
      "needs_background": "light"
     },
     "output_type": "display_data"
    },
    {
     "name": "stdout",
     "output_type": "stream",
     "text": [
      "Plotted Hertzsprung-Russell diagram\n"
     ]
    },
    {
     "data": {
      "image/png": "[encoded data removed]",
      "text/plain": [
       "<Figure size 432x288 with 1 Axes>"
      ]
     },
     "metadata": {
      "needs_background": "light"
     },
     "output_type": "display_data"
    },
    {
     "name": "stdout",
     "output_type": "stream",
     "text": [
      "Plotted mass-luminosity relation\n"
     ]
    },
    {
     "data": {
      "image/png": "[encoded data removed]",
      "text/plain": [
       "<Figure size 432x288 with 1 Axes>"
      ]
     },
     "metadata": {
      "needs_background": "light"
     },
     "output_type": "display_data"
    },
    {
     "name": "stdout",
     "output_type": "stream",
     "text": [
      "Plotted mass-radius relation\n",
      "--------------------------------------------------------------------------------\n",
      "Plotting complete.\n",
      "Saving results...\n",
      "Results saved.\n",
      "--------------------------------------------------------------------------------\n"
     ]
    }
   ],
   "source": [
    "Lambda = -1e7\n",
    "plot_main_sequence(30000, 1e7, 30, 'MS_neg_e7')"
   ]
  },
  {
   "cell_type": "code",
   "execution_count": null,
   "metadata": {},
   "outputs": [],
   "source": []
  }
 ],
 "metadata": {
  "kernelspec": {
   "display_name": "Python 3",
   "language": "python",
   "name": "python3"
  },
  "language_info": {
   "codemirror_mode": {
    "name": "ipython",
    "version": 3
   },
   "file_extension": ".py",
   "mimetype": "text/x-python",
   "name": "python",
   "nbconvert_exporter": "python",
   "pygments_lexer": "ipython3",
   "version": "3.7.10"
  }
 },
 "nbformat": 4,
 "nbformat_minor": 4
}
