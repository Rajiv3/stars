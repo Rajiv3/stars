{
 "cells": [
  {
   "cell_type": "code",
   "execution_count": null,
   "metadata": {},
   "outputs": [],
   "source": [
    "#L*,R*,T* and rho_c are defined in previous sections\n",
    "\n",
    "from numpy import pi\n",
    "sigme = 5.679374e-8  #Stefan-Boltzmann constant\n",
    "\n",
    "def f(rho_c):\n",
    "    return (Ls-4*pi*sigma*Rs**2*Ts**4)/(4*pi*sigma*Rs**2*Ts**4*Ls)**(0.5)\n",
    "\n",
    "\n",
    "#Use Bisection(Binary research method?) to find root of f\n",
    "\n",
    "def Bisection(f, x1, x2, kmax=200, eps=1.e-12):\n",
    "\n",
    "    x = None  \n",
    "\n",
    "    f1, f2 = f(x1), f(x2)\n",
    "    if f1*f2 > 0: return None\n",
    "    \n",
    "    for k in range(kmax):\n",
    "        xmid = (x1 + x2)/2\n",
    "        fmid = f(xmid)\n",
    "        \n",
    "        if f(x1) * fmid > 0: x1 = xmid \n",
    "        else: x2 = xmid\n",
    "            \n",
    "        if abs(x2-x1) < eps:\n",
    "            x = 0.5*(x2+x1)\n",
    "            break\n",
    "    \n",
    "    return x\n",
    "\n",
    "    \n",
    "solutions = Bisection (f,0.3,500)"
   ]
  }
 ],
 "metadata": {
  "kernelspec": {
   "display_name": "Python 3",
   "language": "python",
   "name": "python3"
  },
  "language_info": {
   "codemirror_mode": {
    "name": "ipython",
    "version": 3
   },
   "file_extension": ".py",
   "mimetype": "text/x-python",
   "name": "python",
   "nbconvert_exporter": "python",
   "pygments_lexer": "ipython3",
   "version": "3.7.10"
  }
 },
 "nbformat": 4,
 "nbformat_minor": 4
}
